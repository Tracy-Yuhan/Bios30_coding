{
 "cells": [
  {
   "cell_type": "markdown",
   "id": "99592bcd",
   "metadata": {},
   "source": [
    "# Preface:\n",
    "\n",
    "The entire work consists of a total of 6 *.py* files, which are ：\n",
    "\n",
    "(1) \"basic_4_functions\" ; \n",
    "\n",
    "(2) \"ext1.py\" ; \n",
    "\n",
    "(3) \"ext12.py\" ; \n",
    "\n",
    "(4) \"ext123.py\" ; \n",
    "\n",
    "(5) \"extall.py\" ;\n",
    "\n",
    "(6) \"all_extensions_in_class.py\"\n",
    "\n",
    "The guide will go through all the *.py* files and describe how to use them."
   ]
  },
  {
   "cell_type": "markdown",
   "id": "3be5ab60",
   "metadata": {},
   "source": [
    "# (1) basic_4_functions.py\n",
    "\n",
    "This is the most basic file that contains 4 necessary functions: **fun_1, fun_2, fun_3 and fun_4**.\n",
    "\n",
    "- `fun_1` takes a message and turns it into a DNA str using codons of 4 bases.\n",
    "- `fun_2` takes a DNA str and decodes it into the original message.\n",
    "- `fun_3` takes the encoded DNA str to a text file called **\"basic_version_encoded.txt\"**.\n",
    "- `fun_4` takes the name of the text file and extract the stored DNA str from it."
   ]
  },
  {
   "cell_type": "code",
   "execution_count": 1,
   "id": "b2ec594b",
   "metadata": {},
   "outputs": [
    {
     "name": "stdout",
     "output_type": "stream",
     "text": [
      "TCCATCTTTCGATCGATCGGACAATGTGTCGGTGACTCGATCTA\n"
     ]
    }
   ],
   "source": [
    "from basic_4_functions import *\n",
    "# test fun_1: \n",
    "# the encoded DNA str is programmed to be printed\n",
    "test_fun_1 = fun_1('hello world')"
   ]
  },
  {
   "cell_type": "code",
   "execution_count": 2,
   "id": "a1dde88d",
   "metadata": {},
   "outputs": [
    {
     "name": "stdout",
     "output_type": "stream",
     "text": [
      "Invalid input\n"
     ]
    }
   ],
   "source": [
    "# It is worth noticing that at this point, the input message has to be within the range of the first 256 characters of ASCII.\n",
    "# If the message entered is outside this range, the informaion cannot be encoded via this function.\n",
    "# test invalid input:\n",
    "test_invalid_input = fun_1('你好')"
   ]
  },
  {
   "cell_type": "code",
   "execution_count": 3,
   "id": "83c05cf6",
   "metadata": {},
   "outputs": [
    {
     "name": "stdout",
     "output_type": "stream",
     "text": [
      "The coded message is: hello world\n"
     ]
    }
   ],
   "source": [
    "# test fun_2:\n",
    "test_fun_2 = fun_2(test_fun_1)"
   ]
  },
  {
   "cell_type": "code",
   "execution_count": 4,
   "id": "68228f91",
   "metadata": {},
   "outputs": [
    {
     "name": "stdout",
     "output_type": "stream",
     "text": [
      "The encoded DNA is stored in: basic_version_encoded.txt\n"
     ]
    }
   ],
   "source": [
    "# test fun_3:\n",
    "test_fun_3 = fun_3(test_fun_1)"
   ]
  },
  {
   "cell_type": "code",
   "execution_count": 5,
   "id": "07b4ea2a",
   "metadata": {},
   "outputs": [
    {
     "name": "stdout",
     "output_type": "stream",
     "text": [
      "file has been received\n",
      "TCCATCTTTCGATCGATCGGACAATGTGTCGGTGACTCGATCTA\n"
     ]
    }
   ],
   "source": [
    "# test fun_4:\n",
    "test_fun_4 = fun_4(test_fun_3)\n",
    "print(test_fun_4)"
   ]
  },
  {
   "cell_type": "markdown",
   "id": "938c3ff1",
   "metadata": {},
   "source": [
    "# (2) ext1.py\n",
    "\n",
    "This file integrates the 4 functions in the \"basic_4_functions.py\" and adds the 1st extension that has the ability to locate and read an encoded message when it is inserted into an arbitary DNA seq at an arbitary pos.\n",
    "\n",
    "It has 2 main functions: **ext1_encode, and ext1_decode**.\n",
    "\n",
    "- `ext1_encode` takes a message input, encodes it using codons of 4 bases, and after adding tags to the encoded DNA seq, it inserts the DNA seq into a random DNA library (default length of the DNA library is 500) and finally stores the whole DNA paragraph to a text file called **\"ext1_encoded.txt\"**.\n",
    "- `ext1_decode` takes the name of the text file, extracts the stored information, finds the region of encoded DNA seq via tags, and finally retrieves the message encoded."
   ]
  },
  {
   "cell_type": "code",
   "execution_count": 6,
   "id": "79a95bdf",
   "metadata": {},
   "outputs": [
    {
     "name": "stdout",
     "output_type": "stream",
     "text": [
      "Take input and turn it into a list of codons:  ['tcca', 'tctt', 'tcga', 'tcga', 'tcgg', 'acaa', 'tgaa', 'tgct', 'tgta', 'tcca', 'tcgg', 'tcgc']\n",
      "The encoded DNA seq after adding tags:  ATCGATCGATCGTCCATCTTTCGATCGATCGGACAATGAATGCTTGTATCCATCGGTCGCGCATGCATGCAT\n",
      "After inserting into a random DNA library of length 500:  ACCGTAAACTCCCGGTCTTAGCAATAATGGTATTGCCCGAGTTACTATCCGGGTGTTAAGGTCGTCAGGGGTTAACCCGGTCCTTCGGCGGATCCCCGGTGGTCCCCGATGTGGGAGGAGCACTCGTATAACCAGGGGCCCAAAAGGCGGAGCAATGGGCTTTATTCGCGAATACGGTTTACGTCAGTCCGGGATCAACCCCGCTGTCTTGGACCTACCATCAGGATCCTGTGGGAACCTCCGGAGCGACTTGACCCGCAGAATCCATCCCGCTTCCCCTTACAAGTAAATGGACAACACTTTGAAGGTTTATGCGAACGTCATTAACCGAACTACGCGACACACCTTGTAGGTCATTATTACGTTATAGGAGAAGCACCGTTACGGAACATCGATCGATCGTCCATCTTTCGATCGATCGGACAATGAATGCTTGTATCCATCGGTCGCGCATGCATGCATTTAATCACTCATAGTTAATTTGGTAGCCCTATTCTTTGCATTACCCTAAACAGCGCGGAGTACGCGCCTTGAATTCGCTGAATCCACCAGGTTATGCAGTAAGGGGTGGG\n",
      "The encoded DNA is stored in: ext1_encoded.txt\n"
     ]
    }
   ],
   "source": [
    "from ext1 import *\n",
    "# test ext1_encode:\n",
    "test_ext1_encode = ext1_encode('hello python')\n",
    "\n",
    "# From the 'print' statements, it can be seen that extension_1 has been successfully achieved.\n",
    "\n",
    "# As the ext1_encode has the ability to add tags before and after the encoded DNA seq \n",
    "#and can insert the seq into a random pos of a random DNA library.\n",
    "\n",
    "# The 'print' sentences are for demonstration only \n",
    "#and the return result of ext1_encode is the name of the file where the encoded message is stored."
   ]
  },
  {
   "cell_type": "code",
   "execution_count": 7,
   "id": "1c6a31e3",
   "metadata": {},
   "outputs": [
    {
     "name": "stdout",
     "output_type": "stream",
     "text": [
      "The DNA paragraph extracted from the file:  ACCGTAAACTCCCGGTCTTAGCAATAATGGTATTGCCCGAGTTACTATCCGGGTGTTAAGGTCGTCAGGGGTTAACCCGGTCCTTCGGCGGATCCCCGGTGGTCCCCGATGTGGGAGGAGCACTCGTATAACCAGGGGCCCAAAAGGCGGAGCAATGGGCTTTATTCGCGAATACGGTTTACGTCAGTCCGGGATCAACCCCGCTGTCTTGGACCTACCATCAGGATCCTGTGGGAACCTCCGGAGCGACTTGACCCGCAGAATCCATCCCGCTTCCCCTTACAAGTAAATGGACAACACTTTGAAGGTTTATGCGAACGTCATTAACCGAACTACGCGACACACCTTGTAGGTCATTATTACGTTATAGGAGAAGCACCGTTACGGAACATCGATCGATCGTCCATCTTTCGATCGATCGGACAATGAATGCTTGTATCCATCGGTCGCGCATGCATGCATTTAATCACTCATAGTTAATTTGGTAGCCCTATTCTTTGCATTACCCTAAACAGCGCGGAGTACGCGCCTTGAATTCGCTGAATCCACCAGGTTATGCAGTAAGGGGTGGG\n",
      "The target region that contains our message:  TCCATCTTTCGATCGATCGGACAATGAATGCTTGTATCCATCGGTCGC\n",
      "The coded message is: hello python\n"
     ]
    }
   ],
   "source": [
    "# test ext1_decode:\n",
    "test_ext1_decode = ext1_decode(test_ext1_encode)\n",
    "\n",
    "# The ext1_decode has been proved to be working\n",
    "# It can extract the meaningful DNA section from the whole library by using tags."
   ]
  },
  {
   "cell_type": "markdown",
   "id": "78612597",
   "metadata": {},
   "source": [
    "# (3) ext12.py\n",
    "\n",
    "This adds an another entension to the \"ext1.py\" that it has the ability to add to the encoded message seq a checksum val as a crosscheck on the integrity of the encoded seq, and it can also check a decoded message using the checksum val.\n",
    "\n",
    "It still has 2 main functions: **ext12_encode, and ext12_decode**.\n",
    "\n",
    "- `ext12_encode` works similarly to ext1_encode, except that there is an additional step to add a checksum val to the encoded seq.\n",
    "\n",
    "  (DNA_seq_insert = 'Tag'+DNA_seq + 'checksum_val' + 'Tag')\n",
    "  \n",
    "  \n",
    "- `ext12_decode` also has similar functions to ext1_decode, but has the ability to perform a checksum test and displays its result."
   ]
  },
  {
   "cell_type": "code",
   "execution_count": 8,
   "id": "c4cbf9a8",
   "metadata": {},
   "outputs": [
    {
     "name": "stdout",
     "output_type": "stream",
     "text": [
      "By using the number-codon conversion dictionary, a numerical checksum value can be obtained, and that is:  30\n",
      "The numerical checksum value is then turned into a 4-bases codon:  atgc\n",
      "The DNA seq before adding the checksum codon:  TCCATCTTTCGATCGATCGGACAATGAATGCTTGTATCCATCGGTCGCACAATGTGTCGGTGACTCGATCTA\n",
      "The DNA seq after adding the checksum codon:  TCCATCTTTCGATCGATCGGACAATGAATGCTTGTATCCATCGGTCGCACAATGTGTCGGTGACTCGATCTAATGC\n",
      "After adding tags:  ATCGATCGATCGTCCATCTTTCGATCGATCGGACAATGAATGCTTGTATCCATCGGTCGCACAATGTGTCGGTGACTCGATCTAATGCGCATGCATGCAT\n",
      "After inserting into a random DNA library:  TAGAAAGCTAGCACACGATTGCCTAAATATGAGCACATGTGGTGTTGACCAGGCGATTAGTCAAAGCGCCCCTTGCATAAACTTTCTCATATGCTATGACTACCTGCACCGATAGGACGCTCAGTTGGCTAGCTACTCTTCGGGCTGATTGGATTTCAAGGCTCCTCACAAGACTAATCAGGCCCAGATAGCGATGTGTTGTTACCATAACGCTGTTGTCAGAACTGTGGCTCTGGGTCACTGCGGGACTAGCTCACACTGCTACGCCTCGAGTCACCCGAAAGAACTCTAGTTGTCACTGATCACATAAAGATAAAAAGCCACCATCGATCGATCGTCCATCTTTCGATCGATCGGACAATGAATGCTTGTATCCATCGGTCGCACAATGTGTCGGTGACTCGATCTAATGCGCATGCATGCATCGACCGCGAGTAGAGTATGGATGTTCAGACAGGTAAACCCACTCGAACGCCAGGCTGCATACCTTCAAGTGCATATCCCAAGTATCCTCCTGTTGTGCCTTGTCGTGTAATACACACCCGTCAAACTGAGCGACCACCACGATTATTCTGTCAGTCATAAAGTATGAGGATTATG\n",
      "The encoded DNA is stored in: ext12_encoded.txt, and a checksum value is added\n"
     ]
    }
   ],
   "source": [
    "from ext12 import *\n",
    "# test ext12_encode:\n",
    "test_ext12_encode = ext12_encode('hello python world')\n",
    "\n",
    "# From the print output, it can be seen that ext12_encode can add a checksum value to the encoded DNA seq.\n",
    "\n",
    "# Again, these 'print' sentences are for demonstration only \n",
    "#and the return result of ext12_encode is the name of the file where the encoded message is stored."
   ]
  },
  {
   "cell_type": "code",
   "execution_count": 9,
   "id": "15072672",
   "metadata": {},
   "outputs": [
    {
     "name": "stdout",
     "output_type": "stream",
     "text": [
      "The DNA paragraph extracted from the file:  TAGAAAGCTAGCACACGATTGCCTAAATATGAGCACATGTGGTGTTGACCAGGCGATTAGTCAAAGCGCCCCTTGCATAAACTTTCTCATATGCTATGACTACCTGCACCGATAGGACGCTCAGTTGGCTAGCTACTCTTCGGGCTGATTGGATTTCAAGGCTCCTCACAAGACTAATCAGGCCCAGATAGCGATGTGTTGTTACCATAACGCTGTTGTCAGAACTGTGGCTCTGGGTCACTGCGGGACTAGCTCACACTGCTACGCCTCGAGTCACCCGAAAGAACTCTAGTTGTCACTGATCACATAAAGATAAAAAGCCACCATCGATCGATCGTCCATCTTTCGATCGATCGGACAATGAATGCTTGTATCCATCGGTCGCACAATGTGTCGGTGACTCGATCTAATGCGCATGCATGCATCGACCGCGAGTAGAGTATGGATGTTCAGACAGGTAAACCCACTCGAACGCCAGGCTGCATACCTTCAAGTGCATATCCCAAGTATCCTCCTGTTGTGCCTTGTCGTGTAATACACACCCGTCAAACTGAGCGACCACCACGATTATTCTGTCAGTCATAAAGTATGAGGATTATG\n",
      "The target region that contains our message:  TCCATCTTTCGATCGATCGGACAATGAATGCTTGTATCCATCGGTCGCACAATGTGTCGGTGACTCGATCTAATGC\n",
      "Undertake a checksum test and check the intergrity of the encoded message\n",
      "The result of the checksum test is: True\n",
      "The coded message is: hello python world\n"
     ]
    }
   ],
   "source": [
    "# test ext12_decode:\n",
    "test_ext12_decode = ext12_decode(test_ext12_encode)\n",
    "\n",
    "# ext12_decode is able to do both extensions, which are finding the target region and carrying a checksum test.\n",
    "\n",
    "# Its final return is the decoded message str."
   ]
  },
  {
   "cell_type": "markdown",
   "id": "ac697c3d",
   "metadata": {},
   "source": [
    "# (4) ext123.py\n",
    "\n",
    "\n",
    "This adds an another entension to the \"ext12.py\" that it can take a reference genome file as a one-time pad to encrypt the input message and only with the reference genome file, the message can be decrypted.\n",
    "\n",
    "It has 2 main functions: **ext123_encode, and ext123_decode**.\n",
    "\n",
    "- `ext123_encode` is similar to ext12_encode but with the extra ability to take a reference genome and further encrypt the message.(The reference genome used here is the sequence from watermelon chromosome 1,its FASTA seq can be found in: https://www.ncbi.nlm.nih.gov/nuccore/CM018018.1?report=fasta)\n",
    "\n",
    "- `ext123_decode` takes the filename and reference genome and decodes the DNA seq into the stored message."
   ]
  },
  {
   "cell_type": "code",
   "execution_count": 10,
   "id": "7bd80d54",
   "metadata": {},
   "outputs": [
    {
     "name": "stdout",
     "output_type": "stream",
     "text": [
      "List of codons before encryption:  ['tcca', 'tctt', 'tcga', 'tcga', 'tcgg', 'acaa', 'tgtg', 'tcgg', 'tgac', 'tcga', 'tcta', 'acaa', 'tcat', 'tctg', 'tcat', 'tcct', 'tcgc']\n",
      "List of codons after encryption:  ['aact', 'cgct', 'acgt', 'cgga', 'agta', 'tcaa', 'caga', 'tcaa', 'ttta', 'ccgc', 'tcta', 'acaa', 'tcat', 'gtga', 'agtc', 'cgga', 'tgag']\n",
      "The encoded DNA is stored in: ext123_encoded.txt\n"
     ]
    }
   ],
   "source": [
    "from ext123 import*\n",
    "# test ext123_encode:\n",
    "test_ext123_encode = ext123_encode('hello world again')\n",
    "\n",
    "# To avoid repetition, functions for extension 1 and 2 that are shown above will be left out here."
   ]
  },
  {
   "cell_type": "code",
   "execution_count": 11,
   "id": "4cc274bf",
   "metadata": {},
   "outputs": [
    {
     "name": "stdout",
     "output_type": "stream",
     "text": [
      "The result of the checksum test is: True\n",
      "List of codons before decryption:  ['aact', 'cgct', 'acgt', 'cgga', 'agta', 'tcaa', 'caga', 'tcaa', 'ttta', 'ccgc', 'tcta', 'acaa', 'tcat', 'gtga', 'agtc', 'cgga', 'tgag']\n",
      "After decryption:  ['tcca', 'tctt', 'tcga', 'tcga', 'tcgg', 'acaa', 'tgtg', 'tcgg', 'tgac', 'tcga', 'tcta', 'acaa', 'tcat', 'tctg', 'tcat', 'tcct', 'tcgc']\n",
      "The coded message is: hello world again\n"
     ]
    }
   ],
   "source": [
    "# prepare reference genome:\n",
    "f = open('ref_genome_watermelon_chro1.txt','r')\n",
    "reference_genome = f.read()\n",
    "reference_genome = reference_genome.replace('\\n','')\n",
    "\n",
    "# test ext123_decode:\n",
    "test_ext123_decode = ext123_decode(test_ext123_encode, reference_genome)"
   ]
  },
  {
   "cell_type": "markdown",
   "id": "96d3bdca",
   "metadata": {},
   "source": [
    "# (5) extall.py\n",
    "\n",
    "This file contains all extensions that uses a randomised dictionary and can take unicode input.\n",
    "\n",
    "It has 2 main functions: **extall_encode, and extall_decode**.\n",
    "\n",
    "- `extall_encode` includes the function of all 5 extensions that it accepts Unicode input, uses a randomised dictionary, adds checksums, uses one-time pad encryption and inserts the encrypted DNA str into a random pos of a random DNA paragraph. \n",
    "\n",
    "- `extall_decode` is the counterpart of 'extall_encode', which takes the name of the text file and the reference genome, being able to locate the target region, do a checksum test, decrypt the message using the reference genome and finally outputs the Unicode str."
   ]
  },
  {
   "cell_type": "code",
   "execution_count": 12,
   "id": "9f068800",
   "metadata": {},
   "outputs": [
    {
     "name": "stdout",
     "output_type": "stream",
     "text": [
      "Take input and turn it into a list of codons:  ['cg', 'ct', 'ca', 'tg', 'ac', 'gt', 'cg', 'gc', 'ac', 'gc', 'ca', 'tg']\n",
      "The list of codons after encryption with reference genome:  ['aa', 'aa', 'ta', 'gg', 'gt', 'cc', 'tg', 'aa', 'gt', 'tt', 'tc', 'at']\n",
      "The added checksum codon:  at\n",
      "The encrypted DNA seq with an appended checksum val:  AAAATAGGGTCCTGAAGTTTTCATAT\n",
      "After adding tags:  ATCGATCGATCGAAAATAGGGTCCTGAAGTTTTCATATGCATGCATGCAT\n",
      "After inserting into a random DNA library of length 500:  TCGACGGTCAGATCTGTTGAACCACTGGACAACGTAGTCTCCAGCTCTACTCACCAGTCTTGTGAGTGCCTAATCGATCGATCGAAAATAGGGTCCTGAAGTTTTCATATGCATGCATGCATTCTGACGATAATCAACGTGAAATGCCCAACGAGTGTAAGCTTGGACGGGTTGGCTGATAGCTGCGGTCTAAGTTCAAATGAAGAACACACCAGCCCGATCGGACCTGTCATTCTACGGATGTCCCCCTATTCGAAAAGAAGGATAAGGAGATGCTAAGCACATTACCTCTATAAGGGTAAAGTGCGGAGACGAGCTTGCATCCCTGCGCGACTTACCCGGCTTCCTTTCACGACGTTGTAGAACGGGGCCACGTGATCCATAGTTAAGCAGCGGGTCAAGCGCTACCAGTGGCCAGGGGCCGCCGTTCAGATTACATGTATAATCGTAACGTAAAAGGTATATGGACAGGCCTAAGCGTGGGATTTTCAGCCACCTTTATGGCTAACTACCATGAATCGAGAATTACTAGTAGCTTTTGATATTCACT\n",
      "The encoded DNA is stored in: extall_encoded.txt\n"
     ]
    }
   ],
   "source": [
    "from extall import *\n",
    "# test extall_encode:\n",
    "# This time the range of input is extended to include all Unicode characters.\n",
    "test_extall_encode = extall_encode('你好')\n",
    "\n",
    "# The 'print' statements in the extall.py file are just for showing how the 5 extensions have been achieved.\n",
    "# Ultimately the extall_encode function returns the name of the file where the encoded message is stored."
   ]
  },
  {
   "cell_type": "code",
   "execution_count": 17,
   "id": "867a5316",
   "metadata": {},
   "outputs": [
    {
     "name": "stdout",
     "output_type": "stream",
     "text": [
      "{'2': 'aa', '13': 'at', '1': 'ac', '10': 'ag', '3': 'ta', '15': 'tt', '7': 'tc', '11': 'tg', '4': 'ca', '5': 'ct', '6': 'cc', '12': 'cg', '8': 'ga', '9': 'gt', '0': 'gc', '14': 'gg'}\n"
     ]
    }
   ],
   "source": [
    "# get random dict from json files for decoding\n",
    "with open('Ranhex_to_codon_dict.json','r') as file_object:  \n",
    "  hex_to_codon_dict = json.load(file_object) \n",
    "\n",
    "with open('Rancodon_to_hex_dict.json','r') as file_object:  \n",
    "  codon_to_hex_dict = json.load(file_object) \n",
    "\n",
    "# The reason why the following files have 'all' in their names is that \n",
    "#when trying extension 4 using ASCII and codon dictionaries, \n",
    "#the name 'Rancodon_to_number_dict.json' and 'Rannumber_to_codon_dict.json' have been used.\n",
    "\n",
    "# The ext1234.py is not shown here, as apart from the randomised dictionaries,\n",
    "# the functions remain almost the same from 'ext123.py'.\n",
    "with open('allRancodon_to_number_dict.json','r') as file_object:  \n",
    "  codon_to_numbers_dict = json.load(file_object) \n",
    "\n",
    "with open('allRannumber_to_codon_dict.json','r') as file_object:  \n",
    "  numbers_to_codon_dict = json.load(file_object) \n",
    "\n",
    "# It can be seen that the dict is randomised.\n",
    "# For example:\n",
    "print(codon_to_numbers_dict)"
   ]
  },
  {
   "cell_type": "code",
   "execution_count": 14,
   "id": "020c18f8",
   "metadata": {},
   "outputs": [
    {
     "name": "stdout",
     "output_type": "stream",
     "text": [
      "The DNA paragraph extracted from the file:  TCGACGGTCAGATCTGTTGAACCACTGGACAACGTAGTCTCCAGCTCTACTCACCAGTCTTGTGAGTGCCTAATCGATCGATCGAAAATAGGGTCCTGAAGTTTTCATATGCATGCATGCATTCTGACGATAATCAACGTGAAATGCCCAACGAGTGTAAGCTTGGACGGGTTGGCTGATAGCTGCGGTCTAAGTTCAAATGAAGAACACACCAGCCCGATCGGACCTGTCATTCTACGGATGTCCCCCTATTCGAAAAGAAGGATAAGGAGATGCTAAGCACATTACCTCTATAAGGGTAAAGTGCGGAGACGAGCTTGCATCCCTGCGCGACTTACCCGGCTTCCTTTCACGACGTTGTAGAACGGGGCCACGTGATCCATAGTTAAGCAGCGGGTCAAGCGCTACCAGTGGCCAGGGGCCGCCGTTCAGATTACATGTATAATCGTAACGTAAAAGGTATATGGACAGGCCTAAGCGTGGGATTTTCAGCCACCTTTATGGCTAACTACCATGAATCGAGAATTACTAGTAGCTTTTGATATTCACT\n",
      "The target region that contains our message:  AAAATAGGGTCCTGAAGTTTTCATAT\n",
      "The result of the checksum test is: True\n",
      "Taking the reference genome and decrypt, result:  ['cg', 'ct', 'ca', 'tg', 'ac', 'gt', 'cg', 'gc', 'ac', 'gc', 'ca', 'tg']\n",
      "The coded message is: 你好\n"
     ]
    }
   ],
   "source": [
    "# The regerence genome used here is the same, \n",
    "#as the reference genome has been extracted in the 'ext123.py' section, it will not be repeated here.\n",
    "\n",
    "# If an error is reported, please check and make sure the reference genome has been extracted before decoding.\n",
    "\n",
    "# test extall_decode:\n",
    "test_extall_decode = extall_decode(test_extall_encode, reference_genome)\n",
    "\n",
    "# The 'print' statements in the extall.py file are just for demonstration and showing how each extension works.\n",
    "# The extall_decode function returns a decoded unicode string that has been stored in the text file."
   ]
  },
  {
   "cell_type": "markdown",
   "id": "be6111d3",
   "metadata": {},
   "source": [
    "# (6) all_extensions_in_class.py\n",
    "\n",
    "Finally, functions are intergrated into 2 main classes which are, `Encrypt` and `Decrypt`.\n",
    "\n",
    "- `Encrypt` has 2 initial attributes (apart from self) which are 'input_mes' and 'one_time_pad'. It has many small fragmented methods and a long method that summarises all functionalities, namely `encode`.\n",
    "\n",
    "- `Decrypt` also has 2 initial attributes which are 'filename' and 'one_time_pad'.Similarly, it contains a summarised method called `decode`.\n",
    "\n",
    "### PS: I've also uploaded all my programs to GitHub, but since the share link contains my name, and for the fairness of marking, maybe after finishing scoring, you may want to go to GitHub and search 'Bios30_coding' repository and find everything there.\n",
    "\n",
    "## Thank you so much for your attention:)"
   ]
  },
  {
   "cell_type": "code",
   "execution_count": 18,
   "id": "6fba747c",
   "metadata": {},
   "outputs": [
    {
     "name": "stdout",
     "output_type": "stream",
     "text": [
      "The encoded DNA is stored in: class_encoded.txt\n"
     ]
    }
   ],
   "source": [
    "from all_extensions_in_class import *\n",
    "# test\n",
    "test_class_encode = Encrypt('thank you! and 超级感谢',reference_genome)\n",
    "test = test_class_encode.encode()"
   ]
  },
  {
   "cell_type": "code",
   "execution_count": 19,
   "id": "e7a8fccc",
   "metadata": {},
   "outputs": [
    {
     "name": "stdout",
     "output_type": "stream",
     "text": [
      "The result of the checksum test is: True\n",
      "The coded message is: thank you! and 超级感谢\n"
     ]
    }
   ],
   "source": [
    "# test\n",
    "test_class_decode = Decrypt(test, reference_genome)\n",
    "test_output = test_class_decode.decode()"
   ]
  }
 ],
 "metadata": {
  "kernelspec": {
   "display_name": "Python 3",
   "language": "python",
   "name": "python3"
  },
  "language_info": {
   "codemirror_mode": {
    "name": "ipython",
    "version": 3
   },
   "file_extension": ".py",
   "mimetype": "text/x-python",
   "name": "python",
   "nbconvert_exporter": "python",
   "pygments_lexer": "ipython3",
   "version": "3.8.8"
  }
 },
 "nbformat": 4,
 "nbformat_minor": 5
}
